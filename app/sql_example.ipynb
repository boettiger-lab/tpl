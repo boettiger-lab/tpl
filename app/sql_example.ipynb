{
 "cells": [
  {
   "cell_type": "code",
   "execution_count": 13,
   "id": "2a04e077-1297-406a-a257-fb0f98566036",
   "metadata": {},
   "outputs": [],
   "source": [
    "import os\n",
    "import ibis\n",
    "from ibis import _\n",
    "import ibis.selectors as s\n",
    "from cng.utils import *\n",
    "from cng.h3 import *\n",
    "from minio import Minio\n",
    "import streamlit \n",
    "from datetime import timedelta\n",
    "import re\n",
    "duckdb_install_h3()\n",
    "\n",
    "# con = ibis.duckdb.connect(\"duck.db\",extensions = [\"spatial\", \"h3\"])\n",
    "con = ibis.duckdb.connect(extensions = [\"spatial\", \"h3\"])\n",
    "set_secrets(con)\n",
    "\n",
    "# Get signed URLs to access license-controlled layers\n",
    "key = st.secrets[\"MINIO_KEY\"]\n",
    "secret = st.secrets[\"MINIO_SECRET\"]\n",
    "client = Minio(\"minio.carlboettiger.info\", key, secret)\n",
    "\n",
    "mobi_z8 = con.read_parquet(\"https://minio.carlboettiger.info/public-mobi/hex/all-richness-h8.parquet\").select(\"h8\", \"Z\").rename(richness = \"Z\")\n",
    "svi_z8 = con.read_parquet(\"https://minio.carlboettiger.info/public-social-vulnerability/2022/SVI2022_US_tract_h3_z8.parquet\").select(\"h8\", \"svi\").filter(_.svi > 0)\n",
    "carbon_z8 = con.read_parquet(\"https://minio.carlboettiger.info/public-carbon/hex/us-tracts-vuln-total-carbon-2018-h8.parquet\").select('carbon','h8')\n",
    "county_bounds = con.read_parquet(\"https://minio.carlboettiger.info/public-census/2024/county/2024_us_county.parquet\")\n",
    "tpl_z8 = con.read_parquet(\"s3://shared-tpl/conservation_almanac/z8/tpl_h3_z8.parquet\")\n",
    "landvote_z8 = con.read_parquet(\"s3://shared-tpl/landvote/z8/landvote_h3_z8.parquet\")"
   ]
  },
  {
   "cell_type": "code",
   "execution_count": 15,
   "id": "919e66ee-5e41-4e86-a9b9-867dc6bc3d87",
   "metadata": {},
   "outputs": [
    {
     "data": {
      "application/vnd.jupyter.widget-view+json": {
       "model_id": "31265c6efc164d5082af3ed5f855ef2e",
       "version_major": 2,
       "version_minor": 0
      },
      "text/plain": [
       "FloatProgress(value=0.0, layout=Layout(width='auto'), style=ProgressStyle(bar_color='black'))"
      ]
     },
     "metadata": {},
     "output_type": "display_data"
    }
   ],
   "source": [
    "current_tables = con.list_tables()\n",
    "\n",
    "if \"conservation_almanac\" not in set(current_tables):\n",
    "    con.create_table(\"conservation_almanac\", tpl_z8)\n",
    "\n",
    "if \"landvote\" not in set(current_tables):\n",
    "    con.create_table(\"landvote\", landvote_z8)\n",
    "\n",
    "if \"carbon\" not in set(current_tables):\n",
    "    con.create_table(\"carbon\", carbon_z8)\n",
    "\n",
    "if \"mobi\" not in set(current_tables):\n",
    "    con.create_table(\"mobi\", mobi_z8)\n",
    "\n",
    "if \"svi\" not in set(current_tables):\n",
    "    con.create_table(\"svi\", svi_z8)\n",
    "\n",
    "conservation_almanac = con.table(\"conservation_almanac\")\n",
    "landvote = con.table(\"landvote\")\n",
    "carbon = con.table(\"carbon\")\n",
    "mobi = con.table(\"mobi\")\n",
    "svi = con.table(\"svi\")\n"
   ]
  },
  {
   "cell_type": "code",
   "execution_count": 12,
   "id": "78a7680e-a2ba-4e4a-ab90-c703ebda74b6",
   "metadata": {},
   "outputs": [
    {
     "data": {
      "text/html": [
       "<div>\n",
       "<style scoped>\n",
       "    .dataframe tbody tr th:only-of-type {\n",
       "        vertical-align: middle;\n",
       "    }\n",
       "\n",
       "    .dataframe tbody tr th {\n",
       "        vertical-align: top;\n",
       "    }\n",
       "\n",
       "    .dataframe thead th {\n",
       "        text-align: right;\n",
       "    }\n",
       "</style>\n",
       "<table border=\"1\" class=\"dataframe\">\n",
       "  <thead>\n",
       "    <tr style=\"text-align: right;\">\n",
       "      <th></th>\n",
       "      <th>fid</th>\n",
       "      <th>mean_carbon</th>\n",
       "    </tr>\n",
       "  </thead>\n",
       "  <tbody>\n",
       "    <tr>\n",
       "      <th>0</th>\n",
       "      <td>12347</td>\n",
       "      <td>484.333333</td>\n",
       "    </tr>\n",
       "    <tr>\n",
       "      <th>1</th>\n",
       "      <td>21514</td>\n",
       "      <td>440.160714</td>\n",
       "    </tr>\n",
       "    <tr>\n",
       "      <th>2</th>\n",
       "      <td>14997</td>\n",
       "      <td>440.160714</td>\n",
       "    </tr>\n",
       "    <tr>\n",
       "      <th>3</th>\n",
       "      <td>29331</td>\n",
       "      <td>430.705128</td>\n",
       "    </tr>\n",
       "    <tr>\n",
       "      <th>4</th>\n",
       "      <td>29333</td>\n",
       "      <td>388.551515</td>\n",
       "    </tr>\n",
       "    <tr>\n",
       "      <th>5</th>\n",
       "      <td>29245</td>\n",
       "      <td>366.432727</td>\n",
       "    </tr>\n",
       "    <tr>\n",
       "      <th>6</th>\n",
       "      <td>25881</td>\n",
       "      <td>339.250000</td>\n",
       "    </tr>\n",
       "    <tr>\n",
       "      <th>7</th>\n",
       "      <td>24728</td>\n",
       "      <td>339.000000</td>\n",
       "    </tr>\n",
       "    <tr>\n",
       "      <th>8</th>\n",
       "      <td>24727</td>\n",
       "      <td>339.000000</td>\n",
       "    </tr>\n",
       "    <tr>\n",
       "      <th>9</th>\n",
       "      <td>29326</td>\n",
       "      <td>333.180000</td>\n",
       "    </tr>\n",
       "  </tbody>\n",
       "</table>\n",
       "</div>"
      ],
      "text/plain": [
       "     fid  mean_carbon\n",
       "0  12347   484.333333\n",
       "1  21514   440.160714\n",
       "2  14997   440.160714\n",
       "3  29331   430.705128\n",
       "4  29333   388.551515\n",
       "5  29245   366.432727\n",
       "6  25881   339.250000\n",
       "7  24728   339.000000\n",
       "8  24727   339.000000\n",
       "9  29326   333.180000"
      ]
     },
     "execution_count": 12,
     "metadata": {},
     "output_type": "execute_result"
    }
   ],
   "source": [
    "con.sql('''\n",
    "SELECT fid, AVG(carbon) as mean_carbon\n",
    "    FROM conservation_almanac\n",
    "    LEFT JOIN carbon\n",
    "    USING (h8)\n",
    "    GROUP BY fid\n",
    "    ORDER BY mean_carbon DESC LIMIT 10;\n",
    "    ''').execute()"
   ]
  },
  {
   "cell_type": "code",
   "execution_count": null,
   "id": "93796006-8203-496d-8288-2c0156ea22bc",
   "metadata": {},
   "outputs": [],
   "source": []
  }
 ],
 "metadata": {
  "kernelspec": {
   "display_name": "Python 3 (ipykernel)",
   "language": "python",
   "name": "python3"
  },
  "language_info": {
   "codemirror_mode": {
    "name": "ipython",
    "version": 3
   },
   "file_extension": ".py",
   "mimetype": "text/x-python",
   "name": "python",
   "nbconvert_exporter": "python",
   "pygments_lexer": "ipython3",
   "version": "3.12.10"
  }
 },
 "nbformat": 4,
 "nbformat_minor": 5
}
